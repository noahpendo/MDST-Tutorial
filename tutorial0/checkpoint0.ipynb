{
 "cells": [
  {
   "cell_type": "markdown",
   "id": "3191c52d",
   "metadata": {
    "colab_type": "text",
    "id": "0a8IYAJUshu1"
   },
   "source": [
    "# Checkpoint 0 "
   ]
  },
  {
   "cell_type": "markdown",
   "id": "fde4f2f1",
   "metadata": {},
   "source": [
    "These exercises are a mix of Python and Pandas practice. Most should be no more than a few lines of code! "
   ]
  },
  {
   "cell_type": "code",
   "execution_count": null,
   "id": "f2111366",
   "metadata": {
    "colab": {},
    "colab_type": "code",
    "id": "Jo6wuTgkshu1"
   },
   "outputs": [],
   "source": [
    "# here is a Python list:\n",
    "\n",
    "a = [1, 2, 3, 4, 5, 6]\n"
   ]
  },
  {
   "cell_type": "code",
   "execution_count": 2,
   "id": "779d96b1",
   "metadata": {},
   "outputs": [],
   "source": [
    "a = [1, 2, 3, 4, 5, 6]\n",
    "new_list = a[-1:-4:-1]\n",
    "# get a list containing the last 3 elements of a\n",
    "# Yes, you can just type out [4, 5, 6] but we really want to see you demonstrate you know how to use list slicing in Python"
   ]
  },
  {
   "cell_type": "code",
   "execution_count": 3,
   "id": "b6a54def",
   "metadata": {},
   "outputs": [],
   "source": [
    "# create a list of numbers from 1 to 20\n",
    "list_1 = list(range(1,21,1))\n"
   ]
  },
  {
   "cell_type": "code",
   "execution_count": 4,
   "id": "487873ac",
   "metadata": {},
   "outputs": [],
   "source": [
    "# now get a list with only the even numbers between 1 and 100\n",
    "# you may or may not make use of the list you made in the last cell\n",
    "\n",
    "list_2 = list(range(2,101,2))"
   ]
  },
  {
   "cell_type": "code",
   "execution_count": 1,
   "id": "3d4bb5dd",
   "metadata": {},
   "outputs": [],
   "source": [
    "# write a function that takes two numbers as arguments\n",
    "# and returns the first number divided by the second\n",
    "\n",
    "def divide(num1, num2):\n",
    "    r = num1 / num2\n",
    "    return r\n"
   ]
  },
  {
   "cell_type": "code",
   "execution_count": 5,
   "id": "f55df04e",
   "metadata": {},
   "outputs": [
    {
     "name": "stdout",
     "output_type": "stream",
     "text": [
      "1\n",
      "2\n",
      "fizz\n",
      "4\n",
      "buzz\n",
      "fizz\n",
      "7\n",
      "8\n",
      "fizz\n",
      "buzz\n",
      "11\n",
      "fizz\n",
      "13\n",
      "14\n",
      "fizzbuzz\n",
      "16\n",
      "17\n",
      "fizz\n",
      "19\n",
      "buzz\n",
      "fizz\n",
      "22\n",
      "23\n",
      "fizz\n",
      "buzz\n",
      "26\n",
      "fizz\n",
      "28\n",
      "29\n",
      "fizzbuzz\n"
     ]
    }
   ],
   "source": [
    "# fizzbuzz\n",
    "# you will need to use both iteration and control flow \n",
    "# go through all numbers from 1 to 30 in order\n",
    "# if the number is a multiple of 3, print fizz\n",
    "# if the number is a multiple of 5, print buzz\n",
    "# if the number is a multiple of 3 and 5, print fizzbuzz and NOTHING ELSE\n",
    "# if the number is neither a multiple of 3 nor a multiple of 5, print the number\n",
    "\n",
    "\n",
    "\n",
    "nums = list(range(1,31,1))\n",
    "\n",
    "for num in nums:\n",
    "\n",
    "    if num % 3 == 0 and num % 5 == 0:\n",
    "        print(\"fizzbuzz\")\n",
    "\n",
    "    elif num % 3 == 0:\n",
    "        print(\"fizz\")\n",
    "\n",
    "    elif num % 5 == 0:\n",
    "        print(\"buzz\")\n",
    "\n",
    "    else:\n",
    "        print(num)"
   ]
  },
  {
   "cell_type": "code",
   "execution_count": null,
   "id": "78aace0b",
   "metadata": {},
   "outputs": [],
   "source": [
    "# create a dictionary that reflects the following menu pricing (taken from Ahmo's)\n",
    "# Gyro: $9 \n",
    "# Burger: $9\n",
    "# Greek Salad: $8\n",
    "# Philly Steak: $10\n",
    "\n",
    "ahmoPricing = {\"Gyro\": 9, \"Burger\": 9, \"Greek Salad\": 8, \"Philly Steak\": 10}"
   ]
  },
  {
   "cell_type": "code",
   "execution_count": 10,
   "id": "515fec55",
   "metadata": {
    "colab": {},
    "colab_type": "code",
    "id": "WzCQ5HOJshvA"
   },
   "outputs": [],
   "source": [
    "# load in the \"starbucks.csv\" dataset\n",
    "# refer to how we read the cereal.csv dataset in the tutorial\n",
    "\n",
    "import pandas as pd\n",
    "\n",
    "df = pd.read_csv(\"../data/starbucks.csv\")"
   ]
  },
  {
   "cell_type": "code",
   "execution_count": 11,
   "id": "ac0f0c12",
   "metadata": {},
   "outputs": [
    {
     "data": {
      "text/plain": [
       "0      False\n",
       "1      False\n",
       "2      False\n",
       "3      False\n",
       "4      False\n",
       "       ...  \n",
       "237    False\n",
       "238    False\n",
       "239    False\n",
       "240    False\n",
       "241    False\n",
       "Name: calories, Length: 242, dtype: bool"
      ]
     },
     "execution_count": 11,
     "metadata": {},
     "output_type": "execute_result"
    }
   ],
   "source": [
    "# select all rows with more than and including 400 calories\n",
    "\n",
    "df[\"calories\"] > 400"
   ]
  },
  {
   "cell_type": "code",
   "execution_count": null,
   "id": "ee8f8241",
   "metadata": {},
   "outputs": [],
   "source": [
    "# select all rows whose vitamin c content is higher than the iron content\n",
    "\n",
    "df[ df[\"vitamin c\"] > df[\"iron\"] ]"
   ]
  },
  {
   "cell_type": "code",
   "execution_count": null,
   "id": "d4de48bb",
   "metadata": {},
   "outputs": [],
   "source": [
    "# create a new column containing the caffeine per calories of each drink\n",
    "\n",
    "df[\"caffeine_per_calories\"] = df[\"caffeine\"] / df[\"calories\"]\n",
    "\n"
   ]
  },
  {
   "cell_type": "code",
   "execution_count": null,
   "id": "e0b127c3",
   "metadata": {
    "colab": {},
    "colab_type": "code",
    "id": "rIoxaSxHshvB"
   },
   "outputs": [],
   "source": [
    "# what is the average calorie across all items?\n",
    "\n",
    "df[\"calories\"].mean()"
   ]
  },
  {
   "cell_type": "code",
   "execution_count": 13,
   "id": "282d24a0",
   "metadata": {
    "colab": {},
    "colab_type": "code",
    "id": "ABX7i49FshvD"
   },
   "outputs": [
    {
     "name": "stdout",
     "output_type": "stream",
     "text": [
      "['brewed coffee' 'caff latte' 'caff mocha (without whipped cream)'\n",
      " 'vanilla latte (or other flavoured latte)' 'caff americano' 'cappuccino'\n",
      " 'espresso' 'skinny latte (any flavour)' 'caramel macchiato'\n",
      " 'white chocolate mocha (without whipped cream)'\n",
      " 'hot chocolate (without whipped cream)'\n",
      " 'caramel apple spice (without whipped cream)' 'tazo tea'\n",
      " 'tazo chai tea latte' 'tazo green tea latte' 'tazo fullleaf tea latte'\n",
      " 'tazo fullleaf red tea latte (vanilla rooibos)'\n",
      " 'iced brewed coffee (with classic syrup)'\n",
      " 'iced brewed coffee (with milk  classic syrup)'\n",
      " 'shaken iced tazo tea (with classic syrup)'\n",
      " 'shaken iced tazo tea lemonade (with classic syrup)'\n",
      " 'banana chocolate smoothie' 'orange mango banana smoothie'\n",
      " 'strawberry banana smoothie' 'coffee' 'mocha (without whipped cream)'\n",
      " 'caramel (without whipped cream)' 'java chip (without whipped cream)'\n",
      " 'mocha' 'caramel' 'java chip'\n",
      " 'strawberries  crme (without whipped cream)'\n",
      " 'vanilla bean (without whipped cream)']\n"
     ]
    }
   ],
   "source": [
    "# how many different categories of beverages are there?\n",
    "print(df[\"beverage\"].unique())"
   ]
  },
  {
   "cell_type": "code",
   "execution_count": 14,
   "id": "fa766657",
   "metadata": {
    "colab": {},
    "colab_type": "code",
    "id": "P9QatZAzshvE"
   },
   "outputs": [
    {
     "name": "stdout",
     "output_type": "stream",
     "text": [
      "beverage\n",
      "banana chocolate smoothie                             290.000000\n",
      "brewed coffee                                           4.250000\n",
      "caff americano                                         13.750000\n",
      "caff latte                                            139.166667\n",
      "caff mocha (without whipped cream)                    210.000000\n",
      "cappuccino                                             90.000000\n",
      "caramel                                               150.000000\n",
      "caramel (without whipped cream)                       268.888889\n",
      "caramel apple spice (without whipped cream)           247.500000\n",
      "caramel macchiato                                     184.166667\n",
      "coffee                                                210.000000\n",
      "espresso                                                7.500000\n",
      "hot chocolate (without whipped cream)                 236.666667\n",
      "iced brewed coffee (with classic syrup)                93.333333\n",
      "iced brewed coffee (with milk  classic syrup)         122.222222\n",
      "java chip                                             220.000000\n",
      "java chip (without whipped cream)                     327.777778\n",
      "mocha                                                 156.666667\n",
      "mocha (without whipped cream)                         272.222222\n",
      "orange mango banana smoothie                          266.666667\n",
      "shaken iced tazo tea (with classic syrup)              86.666667\n",
      "shaken iced tazo tea lemonade (with classic syrup)    140.000000\n",
      "skinny latte (any flavour)                            110.000000\n",
      "strawberries  crme (without whipped cream)            248.888889\n",
      "strawberry banana smoothie                            290.000000\n",
      "tazo chai tea latte                                   196.666667\n",
      "tazo fullleaf red tea latte (vanilla rooibos)         148.333333\n",
      "tazo fullleaf tea latte                               148.333333\n",
      "tazo green tea latte                                  275.000000\n",
      "tazo tea                                                0.000000\n",
      "vanilla bean (without whipped cream)                  197.500000\n",
      "vanilla latte (or other flavoured latte)              195.833333\n",
      "white chocolate mocha (without whipped cream)         330.000000\n",
      "Name: calories, dtype: float64\n"
     ]
    }
   ],
   "source": [
    "# what is the average # calories for each beverage category?\n",
    "\n",
    "beverage_category = df.groupby(\"beverage\")\n",
    "\n",
    "print(beverage_category[\"calories\"].mean())"
   ]
  }
 ],
 "metadata": {
  "kernelspec": {
   "display_name": "env",
   "language": "python",
   "name": "python3"
  },
  "language_info": {
   "codemirror_mode": {
    "name": "ipython",
    "version": 3
   },
   "file_extension": ".py",
   "mimetype": "text/x-python",
   "name": "python",
   "nbconvert_exporter": "python",
   "pygments_lexer": "ipython3",
   "version": "3.12.6"
  }
 },
 "nbformat": 4,
 "nbformat_minor": 5
}
